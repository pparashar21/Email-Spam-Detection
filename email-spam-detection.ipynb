{
 "cells": [
  {
   "cell_type": "code",
   "execution_count": 1,
   "id": "ab07218a",
   "metadata": {
    "_cell_guid": "b1076dfc-b9ad-4769-8c92-a6c4dae69d19",
    "_uuid": "8f2839f25d086af736a60e9eeb907d3b93b6e0e5",
    "execution": {
     "iopub.execute_input": "2022-04-30T01:57:29.501993Z",
     "iopub.status.busy": "2022-04-30T01:57:29.501505Z",
     "iopub.status.idle": "2022-04-30T01:57:30.826047Z",
     "shell.execute_reply": "2022-04-30T01:57:30.825053Z"
    },
    "papermill": {
     "duration": 1.349667,
     "end_time": "2022-04-30T01:57:30.829371",
     "exception": false,
     "start_time": "2022-04-30T01:57:29.479704",
     "status": "completed"
    },
    "tags": []
   },
   "outputs": [
    {
     "name": "stdout",
     "output_type": "stream",
     "text": [
      "/kaggle/input/email-spam-detection-dataset-classification/spam.csv\n"
     ]
    }
   ],
   "source": [
    "import numpy as np\n",
    "import pandas as pd\n",
    "import matplotlib.pyplot as plt\n",
    "import seaborn as sns\n",
    "\n",
    "import os\n",
    "for dirname, _, filenames in os.walk('/kaggle/input'):\n",
    "    for filename in filenames:\n",
    "        print(os.path.join(dirname, filename))"
   ]
  },
  {
   "cell_type": "code",
   "execution_count": 2,
   "id": "9108cb3d",
   "metadata": {
    "execution": {
     "iopub.execute_input": "2022-04-30T01:57:30.871064Z",
     "iopub.status.busy": "2022-04-30T01:57:30.869987Z",
     "iopub.status.idle": "2022-04-30T01:57:30.933982Z",
     "shell.execute_reply": "2022-04-30T01:57:30.933000Z"
    },
    "papermill": {
     "duration": 0.087539,
     "end_time": "2022-04-30T01:57:30.936576",
     "exception": false,
     "start_time": "2022-04-30T01:57:30.849037",
     "status": "completed"
    },
    "tags": []
   },
   "outputs": [
    {
     "data": {
      "text/html": [
       "<div>\n",
       "<style scoped>\n",
       "    .dataframe tbody tr th:only-of-type {\n",
       "        vertical-align: middle;\n",
       "    }\n",
       "\n",
       "    .dataframe tbody tr th {\n",
       "        vertical-align: top;\n",
       "    }\n",
       "\n",
       "    .dataframe thead th {\n",
       "        text-align: right;\n",
       "    }\n",
       "</style>\n",
       "<table border=\"1\" class=\"dataframe\">\n",
       "  <thead>\n",
       "    <tr style=\"text-align: right;\">\n",
       "      <th></th>\n",
       "      <th>v1</th>\n",
       "      <th>v2</th>\n",
       "      <th>Unnamed: 2</th>\n",
       "      <th>Unnamed: 3</th>\n",
       "      <th>Unnamed: 4</th>\n",
       "    </tr>\n",
       "  </thead>\n",
       "  <tbody>\n",
       "    <tr>\n",
       "      <th>0</th>\n",
       "      <td>ham</td>\n",
       "      <td>Go until jurong point, crazy.. Available only ...</td>\n",
       "      <td>NaN</td>\n",
       "      <td>NaN</td>\n",
       "      <td>NaN</td>\n",
       "    </tr>\n",
       "    <tr>\n",
       "      <th>1</th>\n",
       "      <td>ham</td>\n",
       "      <td>Ok lar... Joking wif u oni...</td>\n",
       "      <td>NaN</td>\n",
       "      <td>NaN</td>\n",
       "      <td>NaN</td>\n",
       "    </tr>\n",
       "    <tr>\n",
       "      <th>2</th>\n",
       "      <td>spam</td>\n",
       "      <td>Free entry in 2 a wkly comp to win FA Cup fina...</td>\n",
       "      <td>NaN</td>\n",
       "      <td>NaN</td>\n",
       "      <td>NaN</td>\n",
       "    </tr>\n",
       "    <tr>\n",
       "      <th>3</th>\n",
       "      <td>ham</td>\n",
       "      <td>U dun say so early hor... U c already then say...</td>\n",
       "      <td>NaN</td>\n",
       "      <td>NaN</td>\n",
       "      <td>NaN</td>\n",
       "    </tr>\n",
       "    <tr>\n",
       "      <th>4</th>\n",
       "      <td>ham</td>\n",
       "      <td>Nah I don't think he goes to usf, he lives aro...</td>\n",
       "      <td>NaN</td>\n",
       "      <td>NaN</td>\n",
       "      <td>NaN</td>\n",
       "    </tr>\n",
       "  </tbody>\n",
       "</table>\n",
       "</div>"
      ],
      "text/plain": [
       "     v1                                                 v2 Unnamed: 2  \\\n",
       "0   ham  Go until jurong point, crazy.. Available only ...        NaN   \n",
       "1   ham                      Ok lar... Joking wif u oni...        NaN   \n",
       "2  spam  Free entry in 2 a wkly comp to win FA Cup fina...        NaN   \n",
       "3   ham  U dun say so early hor... U c already then say...        NaN   \n",
       "4   ham  Nah I don't think he goes to usf, he lives aro...        NaN   \n",
       "\n",
       "  Unnamed: 3 Unnamed: 4  \n",
       "0        NaN        NaN  \n",
       "1        NaN        NaN  \n",
       "2        NaN        NaN  \n",
       "3        NaN        NaN  \n",
       "4        NaN        NaN  "
      ]
     },
     "execution_count": 2,
     "metadata": {},
     "output_type": "execute_result"
    }
   ],
   "source": [
    "df = pd.read_csv(\"/kaggle/input/email-spam-detection-dataset-classification/spam.csv\", encoding = 'latin_1')\n",
    "df.head()"
   ]
  },
  {
   "cell_type": "code",
   "execution_count": 3,
   "id": "7a1d79cc",
   "metadata": {
    "execution": {
     "iopub.execute_input": "2022-04-30T01:57:30.978057Z",
     "iopub.status.busy": "2022-04-30T01:57:30.977165Z",
     "iopub.status.idle": "2022-04-30T01:57:31.016594Z",
     "shell.execute_reply": "2022-04-30T01:57:31.015800Z"
    },
    "papermill": {
     "duration": 0.062492,
     "end_time": "2022-04-30T01:57:31.018689",
     "exception": false,
     "start_time": "2022-04-30T01:57:30.956197",
     "status": "completed"
    },
    "tags": []
   },
   "outputs": [
    {
     "data": {
      "text/html": [
       "<div>\n",
       "<style scoped>\n",
       "    .dataframe tbody tr th:only-of-type {\n",
       "        vertical-align: middle;\n",
       "    }\n",
       "\n",
       "    .dataframe tbody tr th {\n",
       "        vertical-align: top;\n",
       "    }\n",
       "\n",
       "    .dataframe thead th {\n",
       "        text-align: right;\n",
       "    }\n",
       "</style>\n",
       "<table border=\"1\" class=\"dataframe\">\n",
       "  <thead>\n",
       "    <tr style=\"text-align: right;\">\n",
       "      <th></th>\n",
       "      <th>v1</th>\n",
       "      <th>v2</th>\n",
       "      <th>Unnamed: 2</th>\n",
       "      <th>Unnamed: 3</th>\n",
       "      <th>Unnamed: 4</th>\n",
       "    </tr>\n",
       "  </thead>\n",
       "  <tbody>\n",
       "    <tr>\n",
       "      <th>count</th>\n",
       "      <td>5572</td>\n",
       "      <td>5572</td>\n",
       "      <td>50</td>\n",
       "      <td>12</td>\n",
       "      <td>6</td>\n",
       "    </tr>\n",
       "    <tr>\n",
       "      <th>unique</th>\n",
       "      <td>2</td>\n",
       "      <td>5169</td>\n",
       "      <td>43</td>\n",
       "      <td>10</td>\n",
       "      <td>5</td>\n",
       "    </tr>\n",
       "    <tr>\n",
       "      <th>top</th>\n",
       "      <td>ham</td>\n",
       "      <td>Sorry, I'll call later</td>\n",
       "      <td>bt not his girlfrnd... G o o d n i g h t . . .@\"</td>\n",
       "      <td>MK17 92H. 450Ppw 16\"</td>\n",
       "      <td>GNT:-)\"</td>\n",
       "    </tr>\n",
       "    <tr>\n",
       "      <th>freq</th>\n",
       "      <td>4825</td>\n",
       "      <td>30</td>\n",
       "      <td>3</td>\n",
       "      <td>2</td>\n",
       "      <td>2</td>\n",
       "    </tr>\n",
       "  </tbody>\n",
       "</table>\n",
       "</div>"
      ],
      "text/plain": [
       "          v1                      v2  \\\n",
       "count   5572                    5572   \n",
       "unique     2                    5169   \n",
       "top      ham  Sorry, I'll call later   \n",
       "freq    4825                      30   \n",
       "\n",
       "                                               Unnamed: 2  \\\n",
       "count                                                  50   \n",
       "unique                                                 43   \n",
       "top      bt not his girlfrnd... G o o d n i g h t . . .@\"   \n",
       "freq                                                    3   \n",
       "\n",
       "                   Unnamed: 3 Unnamed: 4  \n",
       "count                      12          6  \n",
       "unique                     10          5  \n",
       "top      MK17 92H. 450Ppw 16\"    GNT:-)\"  \n",
       "freq                        2          2  "
      ]
     },
     "execution_count": 3,
     "metadata": {},
     "output_type": "execute_result"
    }
   ],
   "source": [
    "df.describe()"
   ]
  },
  {
   "cell_type": "code",
   "execution_count": 4,
   "id": "0ec74c6a",
   "metadata": {
    "execution": {
     "iopub.execute_input": "2022-04-30T01:57:31.061331Z",
     "iopub.status.busy": "2022-04-30T01:57:31.061028Z",
     "iopub.status.idle": "2022-04-30T01:57:31.074692Z",
     "shell.execute_reply": "2022-04-30T01:57:31.073583Z"
    },
    "papermill": {
     "duration": 0.037791,
     "end_time": "2022-04-30T01:57:31.076833",
     "exception": false,
     "start_time": "2022-04-30T01:57:31.039042",
     "status": "completed"
    },
    "tags": []
   },
   "outputs": [
    {
     "data": {
      "text/html": [
       "<div>\n",
       "<style scoped>\n",
       "    .dataframe tbody tr th:only-of-type {\n",
       "        vertical-align: middle;\n",
       "    }\n",
       "\n",
       "    .dataframe tbody tr th {\n",
       "        vertical-align: top;\n",
       "    }\n",
       "\n",
       "    .dataframe thead th {\n",
       "        text-align: right;\n",
       "    }\n",
       "</style>\n",
       "<table border=\"1\" class=\"dataframe\">\n",
       "  <thead>\n",
       "    <tr style=\"text-align: right;\">\n",
       "      <th></th>\n",
       "      <th>spam</th>\n",
       "      <th>text</th>\n",
       "    </tr>\n",
       "  </thead>\n",
       "  <tbody>\n",
       "    <tr>\n",
       "      <th>0</th>\n",
       "      <td>ham</td>\n",
       "      <td>Go until jurong point, crazy.. Available only ...</td>\n",
       "    </tr>\n",
       "    <tr>\n",
       "      <th>1</th>\n",
       "      <td>ham</td>\n",
       "      <td>Ok lar... Joking wif u oni...</td>\n",
       "    </tr>\n",
       "    <tr>\n",
       "      <th>2</th>\n",
       "      <td>spam</td>\n",
       "      <td>Free entry in 2 a wkly comp to win FA Cup fina...</td>\n",
       "    </tr>\n",
       "    <tr>\n",
       "      <th>3</th>\n",
       "      <td>ham</td>\n",
       "      <td>U dun say so early hor... U c already then say...</td>\n",
       "    </tr>\n",
       "    <tr>\n",
       "      <th>4</th>\n",
       "      <td>ham</td>\n",
       "      <td>Nah I don't think he goes to usf, he lives aro...</td>\n",
       "    </tr>\n",
       "  </tbody>\n",
       "</table>\n",
       "</div>"
      ],
      "text/plain": [
       "   spam                                               text\n",
       "0   ham  Go until jurong point, crazy.. Available only ...\n",
       "1   ham                      Ok lar... Joking wif u oni...\n",
       "2  spam  Free entry in 2 a wkly comp to win FA Cup fina...\n",
       "3   ham  U dun say so early hor... U c already then say...\n",
       "4   ham  Nah I don't think he goes to usf, he lives aro..."
      ]
     },
     "execution_count": 4,
     "metadata": {},
     "output_type": "execute_result"
    }
   ],
   "source": [
    "df.drop(['Unnamed: 2', 'Unnamed: 3', 'Unnamed: 4'], axis = 1, inplace = True)\n",
    "df.columns = ['spam','text']\n",
    "df.head()"
   ]
  },
  {
   "cell_type": "code",
   "execution_count": 5,
   "id": "3a41a2c5",
   "metadata": {
    "execution": {
     "iopub.execute_input": "2022-04-30T01:57:31.120067Z",
     "iopub.status.busy": "2022-04-30T01:57:31.118796Z",
     "iopub.status.idle": "2022-04-30T01:57:31.128369Z",
     "shell.execute_reply": "2022-04-30T01:57:31.127725Z"
    },
    "papermill": {
     "duration": 0.033158,
     "end_time": "2022-04-30T01:57:31.130298",
     "exception": false,
     "start_time": "2022-04-30T01:57:31.097140",
     "status": "completed"
    },
    "tags": []
   },
   "outputs": [
    {
     "data": {
      "text/plain": [
       "ham     4825\n",
       "spam     747\n",
       "Name: spam, dtype: int64"
      ]
     },
     "execution_count": 5,
     "metadata": {},
     "output_type": "execute_result"
    }
   ],
   "source": [
    "df['spam'].value_counts()"
   ]
  },
  {
   "cell_type": "code",
   "execution_count": 6,
   "id": "49024814",
   "metadata": {
    "execution": {
     "iopub.execute_input": "2022-04-30T01:57:31.175256Z",
     "iopub.status.busy": "2022-04-30T01:57:31.174498Z",
     "iopub.status.idle": "2022-04-30T01:57:31.178953Z",
     "shell.execute_reply": "2022-04-30T01:57:31.178189Z"
    },
    "papermill": {
     "duration": 0.029476,
     "end_time": "2022-04-30T01:57:31.181067",
     "exception": false,
     "start_time": "2022-04-30T01:57:31.151591",
     "status": "completed"
    },
    "tags": []
   },
   "outputs": [],
   "source": [
    "y = df['spam']\n",
    "text = df['text']"
   ]
  },
  {
   "cell_type": "code",
   "execution_count": 7,
   "id": "a0385a9b",
   "metadata": {
    "execution": {
     "iopub.execute_input": "2022-04-30T01:57:31.225276Z",
     "iopub.status.busy": "2022-04-30T01:57:31.224236Z",
     "iopub.status.idle": "2022-04-30T01:57:32.120428Z",
     "shell.execute_reply": "2022-04-30T01:57:32.119014Z"
    },
    "papermill": {
     "duration": 0.921163,
     "end_time": "2022-04-30T01:57:32.123293",
     "exception": false,
     "start_time": "2022-04-30T01:57:31.202130",
     "status": "completed"
    },
    "tags": []
   },
   "outputs": [],
   "source": [
    "from nltk.stem import PorterStemmer\n",
    "from nltk.tokenize import word_tokenize\n",
    "from nltk.corpus import stopwords"
   ]
  },
  {
   "cell_type": "code",
   "execution_count": 8,
   "id": "7a7bd4fe",
   "metadata": {
    "execution": {
     "iopub.execute_input": "2022-04-30T01:57:32.166921Z",
     "iopub.status.busy": "2022-04-30T01:57:32.166030Z",
     "iopub.status.idle": "2022-04-30T01:57:32.173154Z",
     "shell.execute_reply": "2022-04-30T01:57:32.172465Z"
    },
    "papermill": {
     "duration": 0.031499,
     "end_time": "2022-04-30T01:57:32.175275",
     "exception": false,
     "start_time": "2022-04-30T01:57:32.143776",
     "status": "completed"
    },
    "tags": []
   },
   "outputs": [],
   "source": [
    "def preprocess_data(text): \n",
    "    preprocess = []\n",
    "    ps = PorterStemmer()\n",
    "    \n",
    "    for sentence in text: \n",
    "        word = word_tokenize(sentence)\n",
    "        email = ''\n",
    "        \n",
    "        for w in word: \n",
    "            if w not in stopwords.words(\"english\"):\n",
    "                w = ps.stem(w)\n",
    "                email += (w + ' ')\n",
    "        preprocess.append(email)\n",
    "    \n",
    "    return preprocess"
   ]
  },
  {
   "cell_type": "code",
   "execution_count": 9,
   "id": "806dc0cb",
   "metadata": {
    "execution": {
     "iopub.execute_input": "2022-04-30T01:57:32.220937Z",
     "iopub.status.busy": "2022-04-30T01:57:32.220259Z",
     "iopub.status.idle": "2022-04-30T01:57:50.202718Z",
     "shell.execute_reply": "2022-04-30T01:57:50.201676Z"
    },
    "papermill": {
     "duration": 18.008369,
     "end_time": "2022-04-30T01:57:50.205380",
     "exception": false,
     "start_time": "2022-04-30T01:57:32.197011",
     "status": "completed"
    },
    "tags": []
   },
   "outputs": [],
   "source": [
    "X = preprocess_data(text)"
   ]
  },
  {
   "cell_type": "code",
   "execution_count": 10,
   "id": "fc222352",
   "metadata": {
    "execution": {
     "iopub.execute_input": "2022-04-30T01:57:50.249961Z",
     "iopub.status.busy": "2022-04-30T01:57:50.249515Z",
     "iopub.status.idle": "2022-04-30T01:57:50.260991Z",
     "shell.execute_reply": "2022-04-30T01:57:50.259870Z"
    },
    "papermill": {
     "duration": 0.037995,
     "end_time": "2022-04-30T01:57:50.264041",
     "exception": false,
     "start_time": "2022-04-30T01:57:50.226046",
     "status": "completed"
    },
    "tags": []
   },
   "outputs": [],
   "source": [
    "from sklearn.model_selection import train_test_split as tts\n",
    "\n",
    "X_train, X_test, y_train, y_test = tts(X,y, test_size = 0.2, random_state = 1)"
   ]
  },
  {
   "cell_type": "code",
   "execution_count": 11,
   "id": "0bbe6055",
   "metadata": {
    "execution": {
     "iopub.execute_input": "2022-04-30T01:57:50.308699Z",
     "iopub.status.busy": "2022-04-30T01:57:50.308189Z",
     "iopub.status.idle": "2022-04-30T01:57:50.421020Z",
     "shell.execute_reply": "2022-04-30T01:57:50.420119Z"
    },
    "papermill": {
     "duration": 0.137899,
     "end_time": "2022-04-30T01:57:50.423255",
     "exception": false,
     "start_time": "2022-04-30T01:57:50.285356",
     "status": "completed"
    },
    "tags": []
   },
   "outputs": [
    {
     "data": {
      "text/plain": [
       "TfidfVectorizer(stop_words='english')"
      ]
     },
     "execution_count": 11,
     "metadata": {},
     "output_type": "execute_result"
    }
   ],
   "source": [
    "from sklearn.feature_extraction.text import TfidfVectorizer\n",
    "\n",
    "tfidf = TfidfVectorizer(stop_words='english')\n",
    "\n",
    "tfidf.fit(X_train)"
   ]
  },
  {
   "cell_type": "code",
   "execution_count": 12,
   "id": "a04d84d8",
   "metadata": {
    "execution": {
     "iopub.execute_input": "2022-04-30T01:57:50.470732Z",
     "iopub.status.busy": "2022-04-30T01:57:50.470202Z",
     "iopub.status.idle": "2022-04-30T01:57:50.578607Z",
     "shell.execute_reply": "2022-04-30T01:57:50.577832Z"
    },
    "papermill": {
     "duration": 0.136541,
     "end_time": "2022-04-30T01:57:50.581326",
     "exception": false,
     "start_time": "2022-04-30T01:57:50.444785",
     "status": "completed"
    },
    "tags": []
   },
   "outputs": [],
   "source": [
    "X_train = tfidf.transform(X_train)\n",
    "X_test = tfidf.transform(X_test)"
   ]
  },
  {
   "cell_type": "code",
   "execution_count": 13,
   "id": "17972c84",
   "metadata": {
    "execution": {
     "iopub.execute_input": "2022-04-30T01:57:50.628887Z",
     "iopub.status.busy": "2022-04-30T01:57:50.628012Z",
     "iopub.status.idle": "2022-04-30T01:57:50.633609Z",
     "shell.execute_reply": "2022-04-30T01:57:50.632537Z"
    },
    "papermill": {
     "duration": 0.033907,
     "end_time": "2022-04-30T01:57:50.637530",
     "exception": false,
     "start_time": "2022-04-30T01:57:50.603623",
     "status": "completed"
    },
    "tags": []
   },
   "outputs": [
    {
     "name": "stdout",
     "output_type": "stream",
     "text": [
      "(4457, 6511) (1115, 6511)\n"
     ]
    }
   ],
   "source": [
    "print(X_train.shape, X_test.shape)"
   ]
  },
  {
   "cell_type": "code",
   "execution_count": 14,
   "id": "1efa23e7",
   "metadata": {
    "execution": {
     "iopub.execute_input": "2022-04-30T01:57:50.684108Z",
     "iopub.status.busy": "2022-04-30T01:57:50.683586Z",
     "iopub.status.idle": "2022-04-30T01:57:50.690041Z",
     "shell.execute_reply": "2022-04-30T01:57:50.689322Z"
    },
    "papermill": {
     "duration": 0.032741,
     "end_time": "2022-04-30T01:57:50.692260",
     "exception": false,
     "start_time": "2022-04-30T01:57:50.659519",
     "status": "completed"
    },
    "tags": []
   },
   "outputs": [],
   "source": [
    "#Funtion to build and visualise a confusion matrix\n",
    "from sklearn.metrics import classification_report, confusion_matrix, accuracy_score\n",
    "\n",
    "def visualise_predictions(y_test, y_pred, plt_title, accuracy_title):\n",
    "    cm=confusion_matrix(y_test, y_pred)\n",
    "    print(f'{accuracy_title} Accuracy Score:', '{:.2%}'.format(accuracy_score(y_test, y_pred)))\n",
    "    print(classification_report(y_test, y_pred))\n",
    "    sns.heatmap(cm, annot=True, fmt='g', cbar=False, cmap='magma')\n",
    "    plt.xlabel('Predicted Values')\n",
    "    plt.ylabel('Actual Values')\n",
    "    plt.title(plt_title)\n",
    "    plt.show()\n",
    "    return cm"
   ]
  },
  {
   "cell_type": "code",
   "execution_count": 15,
   "id": "db06d4c8",
   "metadata": {
    "execution": {
     "iopub.execute_input": "2022-04-30T01:57:50.738770Z",
     "iopub.status.busy": "2022-04-30T01:57:50.738324Z",
     "iopub.status.idle": "2022-04-30T01:57:50.989795Z",
     "shell.execute_reply": "2022-04-30T01:57:50.989211Z"
    },
    "papermill": {
     "duration": 0.277545,
     "end_time": "2022-04-30T01:57:50.991685",
     "exception": false,
     "start_time": "2022-04-30T01:57:50.714140",
     "status": "completed"
    },
    "tags": []
   },
   "outputs": [
    {
     "name": "stdout",
     "output_type": "stream",
     "text": [
      "Logistic Regression  Accuracy Score: 97.76%\n",
      "              precision    recall  f1-score   support\n",
      "\n",
      "         ham       0.98      1.00      0.99       976\n",
      "        spam       0.99      0.83      0.90       139\n",
      "\n",
      "    accuracy                           0.98      1115\n",
      "   macro avg       0.98      0.91      0.94      1115\n",
      "weighted avg       0.98      0.98      0.98      1115\n",
      "\n"
     ]
    },
    {
     "data": {
      "image/png": "[encoded data removed]",
      "text/plain": [
       "<Figure size 432x288 with 1 Axes>"
      ]
     },
     "metadata": {
      "needs_background": "light"
     },
     "output_type": "display_data"
    },
    {
     "data": {
      "text/plain": [
       "array([[975,   1],\n",
       "       [ 24, 115]])"
      ]
     },
     "execution_count": 15,
     "metadata": {},
     "output_type": "execute_result"
    }
   ],
   "source": [
    "#1. LOGISTIC REGRESSION\n",
    "from sklearn.linear_model import LogisticRegression\n",
    "logreg = LogisticRegression(solver = 'liblinear')\n",
    "logreg.fit(X_train, y_train)\n",
    "pred = logreg.predict(X_test)\n",
    "\n",
    "visualise_predictions(y_test, pred, \"Logistic Regression\", \"Logistic Regression \")"
   ]
  },
  {
   "cell_type": "code",
   "execution_count": 16,
   "id": "2e076521",
   "metadata": {
    "execution": {
     "iopub.execute_input": "2022-04-30T01:57:51.041821Z",
     "iopub.status.busy": "2022-04-30T01:57:51.041202Z",
     "iopub.status.idle": "2022-04-30T01:57:52.435901Z",
     "shell.execute_reply": "2022-04-30T01:57:52.434543Z"
    },
    "papermill": {
     "duration": 1.422592,
     "end_time": "2022-04-30T01:57:52.438543",
     "exception": false,
     "start_time": "2022-04-30T01:57:51.015951",
     "status": "completed"
    },
    "tags": []
   },
   "outputs": [
    {
     "name": "stdout",
     "output_type": "stream",
     "text": [
      "Random Forest  Accuracy Score: 98.65%\n",
      "              precision    recall  f1-score   support\n",
      "\n",
      "         ham       0.99      1.00      0.99       976\n",
      "        spam       0.97      0.92      0.94       139\n",
      "\n",
      "    accuracy                           0.99      1115\n",
      "   macro avg       0.98      0.96      0.97      1115\n",
      "weighted avg       0.99      0.99      0.99      1115\n",
      "\n"
     ]
    },
    {
     "data": {
      "image/png": "[encoded data removed]",
      "text/plain": [
       "<Figure size 432x288 with 1 Axes>"
      ]
     },
     "metadata": {
      "needs_background": "light"
     },
     "output_type": "display_data"
    },
    {
     "data": {
      "text/plain": [
       "array([[972,   4],\n",
       "       [ 11, 128]])"
      ]
     },
     "execution_count": 16,
     "metadata": {},
     "output_type": "execute_result"
    }
   ],
   "source": [
    "#2. RANDOM FOREST\n",
    "from sklearn.ensemble import RandomForestClassifier\n",
    "rf = RandomForestClassifier()\n",
    "rf.fit(X_train, y_train)\n",
    "pred = rf.predict(X_test)\n",
    "\n",
    "visualise_predictions(y_test, pred, \"Random Forest\", \"Random Forest \")"
   ]
  },
  {
   "cell_type": "code",
   "execution_count": 17,
   "id": "05dcb4e6",
   "metadata": {
    "execution": {
     "iopub.execute_input": "2022-04-30T01:57:52.491211Z",
     "iopub.status.busy": "2022-04-30T01:57:52.490091Z",
     "iopub.status.idle": "2022-04-30T01:57:54.738452Z",
     "shell.execute_reply": "2022-04-30T01:57:54.737302Z"
    },
    "papermill": {
     "duration": 2.277536,
     "end_time": "2022-04-30T01:57:54.740921",
     "exception": false,
     "start_time": "2022-04-30T01:57:52.463385",
     "status": "completed"
    },
    "tags": []
   },
   "outputs": [
    {
     "name": "stdout",
     "output_type": "stream",
     "text": [
      "SVM Classifier Accuracy Score: 99.10%\n",
      "              precision    recall  f1-score   support\n",
      "\n",
      "         ham       0.99      1.00      0.99       976\n",
      "        spam       1.00      0.93      0.96       139\n",
      "\n",
      "    accuracy                           0.99      1115\n",
      "   macro avg       0.99      0.96      0.98      1115\n",
      "weighted avg       0.99      0.99      0.99      1115\n",
      "\n"
     ]
    },
    {
     "data": {
      "image/png": "[encoded data removed]",
      "text/plain": [
       "<Figure size 432x288 with 1 Axes>"
      ]
     },
     "metadata": {
      "needs_background": "light"
     },
     "output_type": "display_data"
    },
    {
     "data": {
      "text/plain": [
       "array([[976,   0],\n",
       "       [ 10, 129]])"
      ]
     },
     "execution_count": 17,
     "metadata": {},
     "output_type": "execute_result"
    }
   ],
   "source": [
    "#3. SVM Classifier\n",
    "from sklearn.svm import SVC\n",
    "svm = SVC(kernel='rbf', C=10)\n",
    "svm.fit(X_train, y_train)\n",
    "pred = svm.predict(X_test)\n",
    "\n",
    "visualise_predictions(y_test, pred, 'Support Vector Classifier', 'SVM Classifier')"
   ]
  }
 ],
 "metadata": {
  "kernelspec": {
   "display_name": "Python 3",
   "language": "python",
   "name": "python3"
  },
  "language_info": {
   "codemirror_mode": {
    "name": "ipython",
    "version": 3
   },
   "file_extension": ".py",
   "mimetype": "text/x-python",
   "name": "python",
   "nbconvert_exporter": "python",
   "pygments_lexer": "ipython3",
   "version": "3.7.12"
  },
  "papermill": {
   "default_parameters": {},
   "duration": 38.279536,
   "end_time": "2022-04-30T01:57:55.995381",
   "environment_variables": {},
   "exception": null,
   "input_path": "__notebook__.ipynb",
   "output_path": "__notebook__.ipynb",
   "parameters": {},
   "start_time": "2022-04-30T01:57:17.715845",
   "version": "2.3.4"
  }
 },
 "nbformat": 4,
 "nbformat_minor": 5
}
